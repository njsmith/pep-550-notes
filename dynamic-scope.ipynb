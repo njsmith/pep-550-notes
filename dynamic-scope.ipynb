{
 "cells": [
  {
   "cell_type": "markdown",
   "metadata": {},
   "source": [
    "# Dynamic scope in Python\n",
    "\n",
    "When we write something like:\n",
    "\n",
    "```python\n",
    "def f():\n",
    "    with decimal.localcontext(ctx1):\n",
    "        g()\n",
    "    \n",
    "def g():\n",
    "    # decimal operations here use ctx1 (or whatever the caller set)\n",
    "    a + b\n",
    "    with decimal.localcontext(ct2):\n",
    "        # decimal operations here use ctx2 (no matter what the caller did)\n",
    "        a + b\n",
    "    # decimal operations here use ctx1 again (or whatever the caller set)\n",
    "    a + b\n",
    "```\n",
    "\n",
    "then conceptually we're using [dynamic scoping](https://en.wikipedia.org/wiki/Scope_%28computer_science%29#Dynamic_scoping): you can think of it as, whenever you do a decimal operation, and the decimal module needs to find the current decimal context, then it walks up the callstack until it finds the first enclosing `with decimal.localcontext(...)`, and uses that. (Of course the actual implementation is different, but from the user point of view, this is the illusion it's trying to maintain.)\n",
    "\n",
    "Crucially, this is different than Python's normal scoping rules. Normal variable lookup in Python uses \"static scoping\": if it can't find a variable locally, then it looks around in the enclosing *file*, not in the *runtime caller*. 99% of the time this is what you want. But the other 1% of the time you have something like the decimal context, or numpy's errstate, or the flask request object, and you actually do want dynamic scoping. But given how rich Python's semantics are – especially around generators – it turns out that right now it's almost impossible to actually implement dynamic scoping properly in Python code.\n",
    "\n",
    "However, there is one example of proper dynamic scoping already built into the interpreter: `sys.exc_info`, which you can access inside an `except:` or `finally:` block to get information about the exception that's currently being handled. Let's walk through some examples to see how the interpreter handles `sys.exc_info`, and why we currently can't make the decimal context work similarly."
   ]
  },
  {
   "cell_type": "markdown",
   "metadata": {},
   "source": [
    "## exc_info basics\n",
    "\n",
    "First, import `sys`, we'll obviously need that to call `sys.exc_info`."
   ]
  },
  {
   "cell_type": "code",
   "execution_count": 1,
   "metadata": {
    "collapsed": true
   },
   "outputs": [],
   "source": [
    "import sys"
   ]
  },
  {
   "cell_type": "markdown",
   "metadata": {},
   "source": [
    "Now, the simplest example of `sys.exc_info`: if you're in an `except`/`finally` block, it contains information about the exception being handled. Otherwise, when there's no exception being handled, it's just `(None, None, None)`."
   ]
  },
  {
   "cell_type": "code",
   "execution_count": 2,
   "metadata": {},
   "outputs": [
    {
     "name": "stdout",
     "output_type": "stream",
     "text": [
      "no exceptions in progress: (None, None, None)\n",
      "inside except: block: (<class 'ValueError'>, ValueError(), <traceback object at 0x7fb7e3972a08>)\n",
      "after except: block: (None, None, None)\n"
     ]
    }
   ],
   "source": [
    "print(\"no exceptions in progress:\", sys.exc_info())\n",
    "try:\n",
    "    raise ValueError\n",
    "except:\n",
    "    # exc_info contains the ValueError\n",
    "    print(\"inside except: block:\", sys.exc_info())\n",
    "# exc_info is (None, None, None)\n",
    "print(\"after except: block:\", sys.exc_info())"
   ]
  },
  {
   "cell_type": "markdown",
   "metadata": {},
   "source": [
    "The call to `sys.exc_info` doesn't have to be *directly* inside the `except` block – if you call it from a subroutine, then it \"walks up the call stack\" until it finds an `except` block, and tells you about it:"
   ]
  },
  {
   "cell_type": "code",
   "execution_count": 3,
   "metadata": {},
   "outputs": [
    {
     "name": "stdout",
     "output_type": "stream",
     "text": [
      "in subroutine: (<class 'ValueError'>, ValueError(), <traceback object at 0x7fb7e2cb3f08>)\n"
     ]
    }
   ],
   "source": [
    "def subroutine():\n",
    "    print(\"in subroutine:\", sys.exc_info())\n",
    "\n",
    "try:\n",
    "    raise ValueError\n",
    "except:\n",
    "    subroutine()"
   ]
  },
  {
   "cell_type": "markdown",
   "metadata": {},
   "source": [
    "This is great, this is what we want. For example, if our subroutine raises an exception, this feature of `sys.exc_info` is what allows [implicit exception chaining](https://blog.ionelmc.ro/2014/08/03/the-most-underrated-feature-in-python-3/) to work.\n",
    "\n",
    "Of course, so far this could be faked by a simple global variable. Like, maybe secretly `except` does something like:\n",
    "\n",
    "```python\n",
    "except:\n",
    "    # invisible line inserted by the interpreter\n",
    "    sys._exc_info = (..., ..., ...)\n",
    "    # then your code here\n",
    "    ...\n",
    "```\n",
    "\n",
    "And in Python 2 I think that's basically how it worked (I'm not sure of the details). But Python 3 is more clever. Consider what happens if we have one `except` block nested inside another:"
   ]
  },
  {
   "cell_type": "code",
   "execution_count": 4,
   "metadata": {},
   "outputs": [
    {
     "name": "stdout",
     "output_type": "stream",
     "text": [
      "single-nested: (<class 'ValueError'>, ValueError(), <traceback object at 0x7fb7e2cbbec8>)\n",
      "double-nested: (<class 'KeyError'>, KeyError(), <traceback object at 0x7fb7e2cbbf48>)\n",
      "single-nested again: (<class 'ValueError'>, ValueError(), <traceback object at 0x7fb7e2cbbec8>)\n"
     ]
    }
   ],
   "source": [
    "try:\n",
    "    raise ValueError\n",
    "except:\n",
    "    # exc_info contains the ValueError\n",
    "    print(\"single-nested:\", sys.exc_info())\n",
    "    try:\n",
    "        raise KeyError\n",
    "    except:\n",
    "        # exc_info contains the KeyError\n",
    "        print(\"double-nested:\", sys.exc_info())\n",
    "    # exc_info contains the ValueError again\n",
    "    print(\"single-nested again:\", sys.exc_info())\n"
   ]
  },
  {
   "cell_type": "markdown",
   "metadata": {},
   "source": [
    "When we exit the inner `except` block, `sys.exc_info` switches *back* to showing `ValueError`. If we want to fake this, then just assigning to a global variable isn't enough: the inner `except` block needs to save the old `exc_info` somewhere, and then restore it again at the end of the block. Something like:\n",
    "\n",
    "```python\n",
    "except:\n",
    "    # invisible lines inserted by the interpreter:\n",
    "    _tmp_exc_info_0 = sys._exc_info\n",
    "    sys._exc_info = (..., ..., ...)\n",
    "    # then your code here:\n",
    "    ...\n",
    "    # then another invisible line inserted by the interpreter:\n",
    "    sys._exc_info = _tmp_exc_info_0\n",
    "```\n",
    "\n",
    "We also need to make sure that this `sys._exc_info` variable is thread-local. And once we've done that, then this save/restore pattern is exactly how Python-level context managers like `decimal.localcontext` currently accomplish their fake dynamic scoping.\n",
    "\n",
    "But it's not how `sys.exc_info` works! To see the special magic, we need to look at how `exc_info` and generators interact.\n",
    "\n",
    "## generators reveal `exc_info`'s dynamic scoping magic\n",
    "\n",
    "Mixing `exc_info` and generators can be confusing, so let's start with a simple example to warm up. We'll make a generator that accesses `exc_info`, and iterate it from different contexts. This isn't really showing anything new, it's just demonstrating that our `subroutine` example from above still works when `subroutine` is replaced by a generator. This could still be faked using a thread-local + the save/restore trick:"
   ]
  },
  {
   "cell_type": "code",
   "execution_count": 5,
   "metadata": {},
   "outputs": [
    {
     "name": "stdout",
     "output_type": "stream",
     "text": [
      "inside gen: (<class 'ValueError'>, ValueError(), <traceback object at 0x7fb7e2cbb088>)\n",
      "inside gen: (None, None, None)\n",
      "inside gen: (<class 'KeyError'>, KeyError(), <traceback object at 0x7fb7e2cbb088>)\n"
     ]
    }
   ],
   "source": [
    "def gen():\n",
    "    while True:\n",
    "        print(\"inside gen:\", sys.exc_info())\n",
    "        yield\n",
    "\n",
    "g = gen()\n",
    "try:\n",
    "    raise ValueError\n",
    "except:\n",
    "    # Iterate with ValueError, the generator sees ValueError\n",
    "    next(g)\n",
    "\n",
    "# Iterate with no exception, the generator sees no exception\n",
    "next(g)\n",
    "\n",
    "try:\n",
    "    raise KeyError\n",
    "except:\n",
    "    # Iterate with KeyError, the generator sees KeyError\n",
    "    next(g)"
   ]
  },
  {
   "cell_type": "markdown",
   "metadata": {},
   "source": [
    "So far so good. Now let's see a trickier case, where we suspend a generator *inside* an `except` block. This is a case where real dynamic scoping and the save/restore trick act differently.\n",
    "\n",
    "If `exc_info` has real dynamic scoping, then `sys.exc_info()` calls outside the generator should never see the `RuntimeError`, because that's only visible inside the generator. And the generator's `sys.exc_info()` call should always describe to the `RuntimeError`, because that's the closest enclosing block, even if the next frame out – the one that's calling `next` — keeps changing.\n",
    "\n",
    "On the other hand, if `exc_info` is using the save/restore trick – like `decimal.localcontext` does – then `sys.exc_info()` should always refer to the *last exception that happened*, no matter where it is in the program. So the first time we suspend the generator, we should be able to see the `RuntimeError` in the calling frame. And if we call `next` to re-enter the generator with some other exception active, then the `sys.exc_info()` call inside the generator will see that other exception, rather than the `RuntimeError`.\n",
    "\n",
    "So... what happens?"
   ]
  },
  {
   "cell_type": "code",
   "execution_count": 6,
   "metadata": {},
   "outputs": [
    {
     "name": "stdout",
     "output_type": "stream",
     "text": [
      "outside gen, before first iteration: (None, None, None)\n",
      "inside gen: (<class 'RuntimeError'>, RuntimeError('raise inside gen',), <traceback object at 0x7fb7e2cd5548>)\n",
      "outside gen, after first iteration: (None, None, None)\n",
      "\n",
      "outside gen: (<class 'ValueError'>, ValueError(), <traceback object at 0x7fb7e2cd5588>)\n",
      "inside gen: (<class 'RuntimeError'>, RuntimeError('raise inside gen',), <traceback object at 0x7fb7e2cd5548>)\n"
     ]
    }
   ],
   "source": [
    "def gen():\n",
    "    try:\n",
    "        raise RuntimeError(\"raise inside gen\")\n",
    "    except:\n",
    "        # This loop is identical to our previous generator.\n",
    "        # Just, now it's embedded inside an except block.\n",
    "        while True:\n",
    "            # If this always prints RuntimeError, that shows we have real dynamic scoping.\n",
    "            print(\"inside gen:\", sys.exc_info())\n",
    "            yield\n",
    "            \n",
    "g = gen()\n",
    "print(\"outside gen, before first iteration:\", sys.exc_info())\n",
    "next(g)\n",
    "# If this prints '(None, None, None)', that shows we have real dynamic scoping\n",
    "# (The generator's exception can't \"leak out\" into it's calling context.)\n",
    "print(\"outside gen, after first iteration:\", sys.exc_info())\n",
    "\n",
    "try:\n",
    "    raise ValueError\n",
    "except:\n",
    "    print(\"\\noutside gen:\", sys.exc_info())\n",
    "    next(g)"
   ]
  },
  {
   "cell_type": "markdown",
   "metadata": {},
   "source": [
    "Inside the generator we always see the `RuntimeError`, and outside the generator we never see the `RuntimeError`. So `exc_info` must be using real dynamic scoping.\n",
    "\n",
    "# Conclusion and takeaways\n",
    "\n",
    "First, this is the example that currently, `decimal.localcontext` and friends *cannot get right*. You cannot fake this with a thread-local + saving/restoring values, so right now there is no way to do what `exc_info` does in pure Python. Which is problematic, because if you think about it, this last example is something that comes up all the time async/await code: all it requires is that you use `await` inside an `except` or `finally` block. If `exc_info` didn't handle this case correctly, then async/await wouldn't work at all. But if you use `await` inside a `decimal.localcontext` block, that doesn't work – it can \"leak\" across different coroutine callstacks. The only reason we get away with this right now is that people don't use `decimal.localcontext` much. Fixing this is what motivates PEP 550.\n",
    "\n",
    "But, here's the problem: in first draft of PEP 550, the idea is basically to add the concept of \"generator local\" variables, as a refinement of \"thread local variables\". This allows you to get the behavior in the second generator example. But what it *can't* do is give us the behavior in the *first* generator example – the \"warm up\" example. If we used PEP 550 context to store `exc_info`, then it would be set once when we first started the generator, and then wouldn't change after that – it couldn't \"see\" the calling context. And this would be bad because it, for example, breaks implicit exception chaining.\n",
    "\n",
    "tl;dr: we have one way to do things that works on example 1 but breaks on example 2, and a proposal that works on example 2 but breaks on example 1. Maybe PEP 550's goal should be to allow pure Python code to implement real dynamic scoping, like `exc_info` does, so we can handle both examples correctly at the same time.\n",
    "\n",
    "# Bonus appendix\n",
    "\n",
    "Actually, `exc_info`'s dynamic scoping is a bit buggy in edge cases. Here's a version of the single/double-nested example from above, but now we've factored out the inner `try`/`except` into a generator. It should work the same... but it doesn't; the exception context gets lost:"
   ]
  },
  {
   "cell_type": "code",
   "execution_count": 7,
   "metadata": {},
   "outputs": [
    {
     "name": "stdout",
     "output_type": "stream",
     "text": [
      "single-nested: (<class 'ValueError'>, ValueError(), <traceback object at 0x7fb7e2cc68c8>)\n",
      "double-nested: (<class 'KeyError'>, KeyError(), <traceback object at 0x7fb7e2cc6e08>)\n",
      "single-nested again: (None, None, None)\n"
     ]
    }
   ],
   "source": [
    "def gen():\n",
    "    try:\n",
    "        raise KeyError\n",
    "    except:\n",
    "        yield\n",
    "        print(\"double-nested:\", sys.exc_info())\n",
    "    # This should print ValueError, but it doesn't!\n",
    "    print(\"single-nested again:\", sys.exc_info())\n",
    "\n",
    "g = gen()\n",
    "next(g)\n",
    "try:\n",
    "    raise ValueError\n",
    "except:\n",
    "    print(\"single-nested:\", sys.exc_info())\n",
    "    next(g, None)"
   ]
  },
  {
   "cell_type": "markdown",
   "metadata": {},
   "source": [
    "(This is a variation of a [bug found by Armin Rigo](https://bugs.python.org/issue28884#msg282532).)\n",
    "\n",
    "Maybe \"real\" dynamic scoping support could help fix this kind of thing too?"
   ]
  }
 ],
 "metadata": {
  "kernelspec": {
   "display_name": "Python 3",
   "language": "python",
   "name": "python3"
  },
  "language_info": {
   "codemirror_mode": {
    "name": "ipython",
    "version": 3
   },
   "file_extension": ".py",
   "mimetype": "text/x-python",
   "name": "python",
   "nbconvert_exporter": "python",
   "pygments_lexer": "ipython3",
   "version": "3.5.4rc1"
  }
 },
 "nbformat": 4,
 "nbformat_minor": 2
}
